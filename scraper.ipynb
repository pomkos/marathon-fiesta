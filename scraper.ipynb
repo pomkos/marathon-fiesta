{
 "cells": [
  {
   "cell_type": "markdown",
   "id": "9793cede-e442-4510-ae8d-3b425ed55985",
   "metadata": {},
   "source": [
    "# Data Gathering"
   ]
  },
  {
   "cell_type": "markdown",
   "id": "cc514815-0f49-49ea-ad9a-52c24a5bf513",
   "metadata": {},
   "source": [
    "All data was scraped from the Akron Marathon results page, available [here](https://www.mtecresults.com/race/show/11979/2021_FirstEnergy_Akron_Marathon%252C_Half_Marathon_%2526_Team_Relay-Marathon)."
   ]
  },
  {
   "cell_type": "code",
   "execution_count": 1,
   "id": "22fde213-1735-4668-8153-b4b007270736",
   "metadata": {},
   "outputs": [],
   "source": [
    "import pandas as pd\n",
    "from bs4 import BeautifulSoup\n",
    "import requests as r"
   ]
  },
  {
   "cell_type": "code",
   "execution_count": 2,
   "id": "c8219f62-e361-4d1d-9656-377c91c753b1",
   "metadata": {},
   "outputs": [],
   "source": [
    "race_2021 = 11979\n",
    "race_2019 = 8097\n",
    "race_2018 = 6564\n",
    "race_2017 = 5214\n",
    "\n",
    "id_year_dict = {\n",
    "    11979: 2021,\n",
    "    8097: 2019,\n",
    "    6564: 2018,\n",
    "    5214: 2017\n",
    "}\n",
    "\n",
    "loc = 0\n",
    "race = race_2021"
   ]
  },
  {
   "cell_type": "code",
   "execution_count": 3,
   "id": "aae53c50-6c1f-432d-bb93-8e94f081a27a",
   "metadata": {},
   "outputs": [],
   "source": [
    "def scrape_page(url):\n",
    "    response = r.get(url)\n",
    "    html = response.text\n",
    "    soup = BeautifulSoup(html, 'lxml')\n",
    "    return soup\n",
    "\n",
    "def extract_rows_from_page(soup):\n",
    "    all_rows = soup.find_all(class_='runnersearch-row')\n",
    "    return all_rows\n",
    "    \n",
    "def extract_data_from_row(row):\n",
    "    row_links = row.find_all('a')\n",
    "    dataframe = pd.DataFrame({\n",
    "        'Bib': [row_links[0].text],\n",
    "        'Name': [row_links[1].text],\n",
    "        'Sex': [row_links[2].text],\n",
    "        'Age': [row_links[3].text],\n",
    "        'City': [row_links[4].text],\n",
    "        'State': [row_links[5].text],\n",
    "        'Overall': [row_links[6].text],\n",
    "        'SexPl': [row_links[7].text],\n",
    "        'DivPl': [row_links[8].text],\n",
    "        'Time': [row_links[9].text]\n",
    "    })\n",
    "    return dataframe\n",
    "\n",
    "def scrape_one_page(race, loc):\n",
    "    dataframe = pd.DataFrame(columns=['Bib','Name','Sex','Age','City','State','Overall','SexPl','DivPl','Time'])\n",
    "    \n",
    "    url = f\"https://www.mtecresults.com/race/quickResults?raceid={race}&version=223&overall=yes&offset={loc}&perPage=500\"\n",
    "    soup = scrape_page(url)\n",
    "    all_rows = extract_rows_from_page(soup)\n",
    "\n",
    "    for row in all_rows:\n",
    "        row = extract_data_from_row(row)\n",
    "        dataframe = dataframe.append(row)\n",
    "    dataframe = dataframe.reset_index(drop=True)\n",
    "    return dataframe"
   ]
  },
  {
   "cell_type": "code",
   "execution_count": 4,
   "id": "2dab1cff-37ac-48f0-b4f0-8e1361f792d3",
   "metadata": {
    "scrolled": true,
    "tags": []
   },
   "outputs": [],
   "source": [
    "df = pd.DataFrame()\n",
    "\n",
    "for race in [race_2021, race_2019, race_2018, race_2017]:\n",
    "    race_df = pd.DataFrame()\n",
    "    for loc in [0, 500]:\n",
    "        temp_df = scrape_one_page(race, loc)\n",
    "        race_df = race_df.append(temp_df)\n",
    "    race_df['RaceId'] = race\n",
    "    df = df.append(race_df)\n",
    "\n",
    "df = df.reset_index(drop=True)\n",
    "df = df.astype({\n",
    "    'Name':'category',\n",
    "    'Sex':'category',\n",
    "    'City':'category',\n",
    "    'State':'category',\n",
    "    'Age':float,})\n",
    "\n",
    "df['Time'] = pd.to_datetime(df['Time']).apply(lambda x: x.time())\n",
    "df['Year'] = df['RaceId'].map(id_year_dict)\n",
    "\n",
    "# Some people participated in more than once race,\n",
    "# so unique identifiers need to account for that. \n",
    "# Category dtype will categorize each unique value\n",
    "df['Name'] = df['Name'].astype('category').cat.codes\n",
    "df = df.rename({'Name':'PersonId'}, axis=1)"
   ]
  },
  {
   "cell_type": "markdown",
   "id": "340ca4fc-a46c-4c3d-9447-1110352d1027",
   "metadata": {},
   "source": [
    "# Data Validation"
   ]
  },
  {
   "cell_type": "markdown",
   "id": "39fe8a2c-daf3-4d98-93b0-5ef7d0a06681",
   "metadata": {},
   "source": [
    "To make sure the data was scraped correctly the following were checked:\n",
    "\n",
    "1. All ages are reasonable fall in the official age division rank\n",
    "1. No `NaN` or `None` values"
   ]
  },
  {
   "cell_type": "code",
   "execution_count": 5,
   "id": "8f0e5509-0789-48bb-bb64-2c4c9fe14eee",
   "metadata": {},
   "outputs": [
    {
     "data": {
      "text/html": [
       "<div>\n",
       "<style scoped>\n",
       "    .dataframe tbody tr th:only-of-type {\n",
       "        vertical-align: middle;\n",
       "    }\n",
       "\n",
       "    .dataframe tbody tr th {\n",
       "        vertical-align: top;\n",
       "    }\n",
       "\n",
       "    .dataframe thead th {\n",
       "        text-align: right;\n",
       "    }\n",
       "</style>\n",
       "<table border=\"1\" class=\"dataframe\">\n",
       "  <thead>\n",
       "    <tr style=\"text-align: right;\">\n",
       "      <th></th>\n",
       "      <th>Bib</th>\n",
       "      <th>PersonId</th>\n",
       "      <th>Sex</th>\n",
       "      <th>Age</th>\n",
       "      <th>City</th>\n",
       "      <th>State</th>\n",
       "      <th>Overall</th>\n",
       "      <th>SexPl</th>\n",
       "      <th>DivPl</th>\n",
       "      <th>Time</th>\n",
       "      <th>RaceId</th>\n",
       "      <th>Year</th>\n",
       "    </tr>\n",
       "  </thead>\n",
       "  <tbody>\n",
       "    <tr>\n",
       "      <th>1344</th>\n",
       "      <td>1168</td>\n",
       "      <td>1580</td>\n",
       "      <td>M</td>\n",
       "      <td>9.0</td>\n",
       "      <td>North Canton</td>\n",
       "      <td>OH</td>\n",
       "      <td>667 / 964</td>\n",
       "      <td>460 / 611</td>\n",
       "      <td>6 / 6</td>\n",
       "      <td>05:15:04</td>\n",
       "      <td>8097</td>\n",
       "      <td>2019</td>\n",
       "    </tr>\n",
       "    <tr>\n",
       "      <th>2198</th>\n",
       "      <td>956</td>\n",
       "      <td>233</td>\n",
       "      <td>M</td>\n",
       "      <td>0.0</td>\n",
       "      <td>Akron</td>\n",
       "      <td>OH</td>\n",
       "      <td>557 / 883</td>\n",
       "      <td>386 / 564</td>\n",
       "      <td></td>\n",
       "      <td>04:41:29</td>\n",
       "      <td>6564</td>\n",
       "      <td>2018</td>\n",
       "    </tr>\n",
       "    <tr>\n",
       "      <th>2778</th>\n",
       "      <td>3552</td>\n",
       "      <td>618</td>\n",
       "      <td>M</td>\n",
       "      <td>0.0</td>\n",
       "      <td>Mantua</td>\n",
       "      <td>OH</td>\n",
       "      <td>254 / 929</td>\n",
       "      <td>206 / 585</td>\n",
       "      <td></td>\n",
       "      <td>04:04:00</td>\n",
       "      <td>5214</td>\n",
       "      <td>2017</td>\n",
       "    </tr>\n",
       "  </tbody>\n",
       "</table>\n",
       "</div>"
      ],
      "text/plain": [
       "       Bib  PersonId Sex  Age          City State    Overall      SexPl  \\\n",
       "1344  1168      1580   M  9.0  North Canton    OH  667 / 964  460 / 611   \n",
       "2198   956       233   M  0.0         Akron    OH  557 / 883  386 / 564   \n",
       "2778  3552       618   M  0.0        Mantua    OH  254 / 929  206 / 585   \n",
       "\n",
       "      DivPl      Time  RaceId  Year  \n",
       "1344  6 / 6  05:15:04    8097  2019  \n",
       "2198         04:41:29    6564  2018  \n",
       "2778         04:04:00    5214  2017  "
      ]
     },
     "execution_count": 5,
     "metadata": {},
     "output_type": "execute_result"
    }
   ],
   "source": [
    "df[df['Age'] < 10]"
   ]
  },
  {
   "cell_type": "markdown",
   "id": "347f01e8-172f-42b7-92c4-d4c286776592",
   "metadata": {},
   "source": [
    "There are three people with an invalid age given. They are removed because:\n",
    "\n",
    "* No info on Facebook of their age, or the name was too common\n",
    "* We have 3454 other datapoints with no missing data\n",
    "* One person is labeled as 9yo, they finished the marathon so are placed in the 10-19 age division"
   ]
  },
  {
   "cell_type": "code",
   "execution_count": 6,
   "id": "c3f86177-9a7a-45ed-969f-7dbc69eabeb6",
   "metadata": {},
   "outputs": [],
   "source": [
    "df = df[df['Age'] != 0].reset_index(drop=True)"
   ]
  },
  {
   "cell_type": "code",
   "execution_count": 7,
   "id": "6798803d-4ef8-4a4b-96f0-8a981e744aef",
   "metadata": {},
   "outputs": [],
   "source": [
    "df.loc[1344,'Age'] = 10"
   ]
  },
  {
   "cell_type": "markdown",
   "id": "52738ffb-2cbc-4803-bd4c-629f26bda61c",
   "metadata": {},
   "source": [
    "Age divisions are created now that all ages are valid."
   ]
  },
  {
   "cell_type": "code",
   "execution_count": 8,
   "id": "6adc7e5e-62b4-407b-a1ee-e18c96f67a19",
   "metadata": {},
   "outputs": [],
   "source": [
    "df['AgeDiv'] = pd.cut(\n",
    "    df['Age'], \n",
    "    bins=[9,19,24,29,34,39,44,49,54,59,64,69,82], # 9 is used as divisor so that 10 is included\n",
    "    precision=0\n",
    ")"
   ]
  },
  {
   "cell_type": "code",
   "execution_count": 9,
   "id": "b5304e7b-7183-41e0-b5dd-85675019657a",
   "metadata": {},
   "outputs": [
    {
     "data": {
      "text/plain": [
       "Bib         0\n",
       "PersonId    0\n",
       "Sex         0\n",
       "Age         0\n",
       "City        0\n",
       "State       0\n",
       "Overall     0\n",
       "SexPl       0\n",
       "DivPl       0\n",
       "Time        0\n",
       "RaceId      0\n",
       "Year        0\n",
       "AgeDiv      0\n",
       "dtype: int64"
      ]
     },
     "execution_count": 9,
     "metadata": {},
     "output_type": "execute_result"
    }
   ],
   "source": [
    "df.isna().sum()"
   ]
  },
  {
   "cell_type": "markdown",
   "id": "75946c59-6167-4766-acf9-82fb8b1838d9",
   "metadata": {},
   "source": [
    "No `NaN` values"
   ]
  },
  {
   "cell_type": "markdown",
   "id": "7b335c01-1699-4c87-b3f6-03b6c4f5daca",
   "metadata": {},
   "source": [
    "# Feature Engineering"
   ]
  },
  {
   "cell_type": "markdown",
   "id": "13390d23-1ac6-47fc-b8a7-47cb353efeb2",
   "metadata": {},
   "source": [
    "Percentile rank of each participant is calculated"
   ]
  },
  {
   "cell_type": "code",
   "execution_count": 10,
   "id": "efeffa0e-adf7-4938-a482-7a3ba703729c",
   "metadata": {},
   "outputs": [],
   "source": [
    "placement_df = pd.DataFrame()\n",
    "for col in ['Overall', 'SexPl', 'DivPl']:\n",
    "    placement = df[col].str.replace(' ','').str.split('/',expand=True)\n",
    "    num = placement[0].astype(float)\n",
    "    denom = placement[1].astype(float)\n",
    "    \n",
    "    percentile = 100 * (1-(num/denom))\n",
    "    \n",
    "    placement_df[f\"{col}_num\"] = num\n",
    "    placement_df[f\"{col}_denom\"] = denom\n",
    "    placement_df[f\"{col}_percentile\"] = percentile\n",
    "    \n",
    "    df[f'{col}Percentile'] = percentile"
   ]
  },
  {
   "cell_type": "code",
   "execution_count": 11,
   "id": "2a256ca3-12fd-486d-823a-de3255cde3a2",
   "metadata": {},
   "outputs": [
    {
     "data": {
      "text/html": [
       "<div>\n",
       "<style scoped>\n",
       "    .dataframe tbody tr th:only-of-type {\n",
       "        vertical-align: middle;\n",
       "    }\n",
       "\n",
       "    .dataframe tbody tr th {\n",
       "        vertical-align: top;\n",
       "    }\n",
       "\n",
       "    .dataframe thead th {\n",
       "        text-align: right;\n",
       "    }\n",
       "</style>\n",
       "<table border=\"1\" class=\"dataframe\">\n",
       "  <thead>\n",
       "    <tr style=\"text-align: right;\">\n",
       "      <th></th>\n",
       "      <th>Bib</th>\n",
       "      <th>PersonId</th>\n",
       "      <th>Sex</th>\n",
       "      <th>Age</th>\n",
       "      <th>City</th>\n",
       "      <th>State</th>\n",
       "      <th>Overall</th>\n",
       "      <th>SexPl</th>\n",
       "      <th>DivPl</th>\n",
       "      <th>Time</th>\n",
       "      <th>RaceId</th>\n",
       "      <th>Year</th>\n",
       "      <th>AgeDiv</th>\n",
       "      <th>OverallPercentile</th>\n",
       "      <th>SexPlPercentile</th>\n",
       "      <th>DivPlPercentile</th>\n",
       "    </tr>\n",
       "  </thead>\n",
       "  <tbody>\n",
       "    <tr>\n",
       "      <th>0</th>\n",
       "      <td>8</td>\n",
       "      <td>1930</td>\n",
       "      <td>M</td>\n",
       "      <td>23.0</td>\n",
       "      <td>Akron</td>\n",
       "      <td>OH</td>\n",
       "      <td>1 / 678</td>\n",
       "      <td>1 / 422</td>\n",
       "      <td>1 / 27</td>\n",
       "      <td>02:25:07</td>\n",
       "      <td>11979</td>\n",
       "      <td>2021</td>\n",
       "      <td>(19, 24]</td>\n",
       "      <td>99.852507</td>\n",
       "      <td>99.763033</td>\n",
       "      <td>96.296296</td>\n",
       "    </tr>\n",
       "    <tr>\n",
       "      <th>1</th>\n",
       "      <td>3</td>\n",
       "      <td>710</td>\n",
       "      <td>M</td>\n",
       "      <td>28.0</td>\n",
       "      <td>Akron</td>\n",
       "      <td>OH</td>\n",
       "      <td>2 / 678</td>\n",
       "      <td>2 / 422</td>\n",
       "      <td>1 / 39</td>\n",
       "      <td>02:27:30</td>\n",
       "      <td>11979</td>\n",
       "      <td>2021</td>\n",
       "      <td>(24, 29]</td>\n",
       "      <td>99.705015</td>\n",
       "      <td>99.526066</td>\n",
       "      <td>97.435897</td>\n",
       "    </tr>\n",
       "    <tr>\n",
       "      <th>2</th>\n",
       "      <td>2</td>\n",
       "      <td>926</td>\n",
       "      <td>M</td>\n",
       "      <td>32.0</td>\n",
       "      <td>Akron</td>\n",
       "      <td>OH</td>\n",
       "      <td>3 / 678</td>\n",
       "      <td>3 / 422</td>\n",
       "      <td>1 / 59</td>\n",
       "      <td>02:28:08</td>\n",
       "      <td>11979</td>\n",
       "      <td>2021</td>\n",
       "      <td>(29, 34]</td>\n",
       "      <td>99.557522</td>\n",
       "      <td>99.289100</td>\n",
       "      <td>98.305085</td>\n",
       "    </tr>\n",
       "    <tr>\n",
       "      <th>3</th>\n",
       "      <td>5</td>\n",
       "      <td>2480</td>\n",
       "      <td>M</td>\n",
       "      <td>34.0</td>\n",
       "      <td>Uniontown</td>\n",
       "      <td>OH</td>\n",
       "      <td>4 / 678</td>\n",
       "      <td>4 / 422</td>\n",
       "      <td>2 / 59</td>\n",
       "      <td>02:39:12</td>\n",
       "      <td>11979</td>\n",
       "      <td>2021</td>\n",
       "      <td>(29, 34]</td>\n",
       "      <td>99.410029</td>\n",
       "      <td>99.052133</td>\n",
       "      <td>96.610169</td>\n",
       "    </tr>\n",
       "    <tr>\n",
       "      <th>4</th>\n",
       "      <td>40</td>\n",
       "      <td>318</td>\n",
       "      <td>M</td>\n",
       "      <td>41.0</td>\n",
       "      <td>Wooster</td>\n",
       "      <td>OH</td>\n",
       "      <td>5 / 678</td>\n",
       "      <td>5 / 422</td>\n",
       "      <td>1 / 62</td>\n",
       "      <td>02:42:44</td>\n",
       "      <td>11979</td>\n",
       "      <td>2021</td>\n",
       "      <td>(39, 44]</td>\n",
       "      <td>99.262537</td>\n",
       "      <td>98.815166</td>\n",
       "      <td>98.387097</td>\n",
       "    </tr>\n",
       "  </tbody>\n",
       "</table>\n",
       "</div>"
      ],
      "text/plain": [
       "  Bib  PersonId Sex   Age       City State  Overall    SexPl   DivPl  \\\n",
       "0   8      1930   M  23.0      Akron    OH  1 / 678  1 / 422  1 / 27   \n",
       "1   3       710   M  28.0      Akron    OH  2 / 678  2 / 422  1 / 39   \n",
       "2   2       926   M  32.0      Akron    OH  3 / 678  3 / 422  1 / 59   \n",
       "3   5      2480   M  34.0  Uniontown    OH  4 / 678  4 / 422  2 / 59   \n",
       "4  40       318   M  41.0    Wooster    OH  5 / 678  5 / 422  1 / 62   \n",
       "\n",
       "       Time  RaceId  Year    AgeDiv  OverallPercentile  SexPlPercentile  \\\n",
       "0  02:25:07   11979  2021  (19, 24]          99.852507        99.763033   \n",
       "1  02:27:30   11979  2021  (24, 29]          99.705015        99.526066   \n",
       "2  02:28:08   11979  2021  (29, 34]          99.557522        99.289100   \n",
       "3  02:39:12   11979  2021  (29, 34]          99.410029        99.052133   \n",
       "4  02:42:44   11979  2021  (39, 44]          99.262537        98.815166   \n",
       "\n",
       "   DivPlPercentile  \n",
       "0        96.296296  \n",
       "1        97.435897  \n",
       "2        98.305085  \n",
       "3        96.610169  \n",
       "4        98.387097  "
      ]
     },
     "execution_count": 11,
     "metadata": {},
     "output_type": "execute_result"
    }
   ],
   "source": [
    "df.head()"
   ]
  },
  {
   "cell_type": "markdown",
   "id": "e60b1a80-327a-419f-8ca2-5b9b274ead73",
   "metadata": {},
   "source": [
    "# EDA"
   ]
  },
  {
   "cell_type": "code",
   "execution_count": 12,
   "id": "011f8881-2c01-4667-ab16-ed8d666da494",
   "metadata": {},
   "outputs": [],
   "source": [
    "import matplotlib.pyplot as plt\n",
    "import seaborn as sns"
   ]
  },
  {
   "cell_type": "code",
   "execution_count": 13,
   "id": "475f0b79-630d-437a-8de7-4d0b4e61c4af",
   "metadata": {},
   "outputs": [
    {
     "data": {
      "text/plain": [
       "Text(0.5, 1.0, 'Gender distribution')"
      ]
     },
     "execution_count": 13,
     "metadata": {},
     "output_type": "execute_result"
    },
    {
     "data": {
      "image/png": "[encoded data removed]",
      "text/plain": [
       "<Figure size 360x360 with 1 Axes>"
      ]
     },
     "metadata": {
      "needs_background": "light"
     },
     "output_type": "display_data"
    }
   ],
   "source": [
    "sns.catplot(x='Sex', data=df, kind='count')\n",
    "plt.title('Gender distribution')"
   ]
  },
  {
   "cell_type": "code",
   "execution_count": 14,
   "id": "7c5cb9c4-4920-4004-9886-dfac383d9d00",
   "metadata": {},
   "outputs": [
    {
     "data": {
      "text/plain": [
       "Text(0.5, 1.0, 'Age distribution')"
      ]
     },
     "execution_count": 14,
     "metadata": {},
     "output_type": "execute_result"
    },
    {
     "data": {
      "image/png": "[encoded data removed]",
      "text/plain": [
       "<Figure size 404.625x360 with 1 Axes>"
      ]
     },
     "metadata": {
      "needs_background": "light"
     },
     "output_type": "display_data"
    }
   ],
   "source": [
    "sns.catplot(x='AgeDiv', data=df, kind='count', hue='Sex')\n",
    "plt.xticks(rotation=45, horizontalalignment='right')\n",
    "plt.title('Age distribution')"
   ]
  },
  {
   "cell_type": "markdown",
   "id": "313f59d6-5bff-4c31-8ffe-80c76eab0707",
   "metadata": {},
   "source": [
    "Male runners out number female runners at all age categories, and age distribution is a normal curve."
   ]
  },
  {
   "cell_type": "code",
   "execution_count": 15,
   "id": "87757ed7-0f9c-4e41-976b-f89e4f254e6b",
   "metadata": {},
   "outputs": [],
   "source": [
    "import geopandas as gpd"
   ]
  },
  {
   "cell_type": "code",
   "execution_count": 16,
   "id": "139e1cf0-a2aa-4ce8-aea2-c5bee9a923ae",
   "metadata": {},
   "outputs": [],
   "source": [
    "gdf = gpd.read_file('data/usa_state_geodf/tl_2021_us_state.shp')"
   ]
  },
  {
   "cell_type": "code",
   "execution_count": 17,
   "id": "d31a5c24-de80-46fa-ad53-a4e0d2d75b0f",
   "metadata": {},
   "outputs": [],
   "source": [
    "person_stats = df.groupby('State').count()['PersonId'].reset_index()"
   ]
  },
  {
   "cell_type": "code",
   "execution_count": 18,
   "id": "192e4d2d-5f39-4ab6-947e-2502d988fd9d",
   "metadata": {},
   "outputs": [],
   "source": [
    "non_cont = [\n",
    "    'United States Virgin Islands',\n",
    "    'Commonwealth of the Northern Mariana Islands',\n",
    "    'American Samoa',\n",
    "    'Puerto Rico',\n",
    "    'Guam',\n",
    "    'Hawaii',\n",
    "    'Alaska'\n",
    "]\n",
    "gdf = gdf[~gdf['NAME'].isin(non_cont)]"
   ]
  },
  {
   "cell_type": "code",
   "execution_count": 19,
   "id": "1242f114-2711-4c1f-a9bb-94791414ed04",
   "metadata": {},
   "outputs": [],
   "source": [
    "def df_to_gdf(dataframe, geo_df):\n",
    "    gdf_ = geo_df.merge(dataframe, left_on='STUSPS', right_on='State', how='left').dropna(subset=['STUSPS'])\n",
    "    return gdf_.reset_index(drop=True)"
   ]
  },
  {
   "cell_type": "code",
   "execution_count": 20,
   "id": "d261f3f6-ee44-4086-95bf-19a716338c6b",
   "metadata": {},
   "outputs": [],
   "source": [
    "gdf_ = df_to_gdf(person_stats, gdf)\n",
    "gdf_['PersonId'] = gdf_['PersonId'].fillna(0)\n",
    "gdf_['came_from_here'] = gdf_['PersonId']>0"
   ]
  },
  {
   "cell_type": "code",
   "execution_count": 21,
   "id": "651a6eb1-b0c2-4ab1-9b18-8aa9591cbf8b",
   "metadata": {},
   "outputs": [],
   "source": [
    "import matplotlib\n",
    "cmap_bool = matplotlib.colors.ListedColormap(['#004c55', '#0097aa'])"
   ]
  },
  {
   "cell_type": "code",
   "execution_count": 22,
   "id": "3014048d-f961-48bb-8616-a0a4768f8209",
   "metadata": {},
   "outputs": [
    {
     "data": {
      "text/plain": [
       "Text(0.5, 1.0, 'Akron Marathon attendance')"
      ]
     },
     "execution_count": 22,
     "metadata": {},
     "output_type": "execute_result"
    },
    {
     "data": {
      "image/png": "[encoded data removed]",
      "text/plain": [
       "<Figure size 1080x432 with 2 Axes>"
      ]
     },
     "metadata": {
      "needs_background": "light"
     },
     "output_type": "display_data"
    }
   ],
   "source": [
    "gdf_.plot('came_from_here', legend=True, figsize=(15,6), cmap=cmap_bool)\n",
    "plt.title('Akron Marathon attendance')"
   ]
  },
  {
   "cell_type": "markdown",
   "id": "7232126b-57ac-4b52-ad67-923bebe508cd",
   "metadata": {},
   "source": [
    "Runners came from 37/48 of the continental United States"
   ]
  },
  {
   "cell_type": "code",
   "execution_count": 23,
   "id": "6c383d5d-9573-40a7-9647-21bae323ed33",
   "metadata": {},
   "outputs": [],
   "source": [
    "age_stats = df.groupby('State')['Age'].mean().round().reset_index()\n",
    "gdf_ = df_to_gdf(age_stats, gdf_)"
   ]
  },
  {
   "cell_type": "code",
   "execution_count": 41,
   "id": "e32b53ea-0205-4de2-8078-dcc9c768de22",
   "metadata": {},
   "outputs": [],
   "source": [
    "gdf_['person_bins'] = pd.cut(gdf_['PersonId'], bins=[0, 5, 10, 15, 50, 100, 200, 3049])"
   ]
  },
  {
   "cell_type": "code",
   "execution_count": 42,
   "id": "f558393b-3e2c-4eba-a38c-6a098d8aaafb",
   "metadata": {},
   "outputs": [
    {
     "name": "stderr",
     "output_type": "stream",
     "text": [
      "<ipython-input-42-9661f04ac5fb>:3: MatplotlibDeprecationWarning:\n",
      "\n",
      "The 's' parameter of annotate() has been renamed 'text' since Matplotlib 3.3; support for the old name will be dropped two minor releases later.\n",
      "\n"
     ]
    },
    {
     "data": {
      "text/plain": [
       "Text(0.5, 1.0, 'Number of racers from each state')"
      ]
     },
     "execution_count": 42,
     "metadata": {},
     "output_type": "execute_result"
    },
    {
     "data": {
      "image/png": "[encoded data removed]",
      "text/plain": [
       "<Figure size 1080x432 with 1 Axes>"
      ]
     },
     "metadata": {
      "needs_background": "light"
     },
     "output_type": "display_data"
    }
   ],
   "source": [
    "fig = plt.figure(1, figsize=(15,6))\n",
    "ax = fig.add_subplot()\n",
    "gdf_.apply(lambda x: ax.annotate(\n",
    "    s=x['PersonId'],\n",
    "    xy=x.geometry.centroid.coords[0],\n",
    "    ha='center',\n",
    "    fontsize=8), axis=1)\n",
    "gdf_.plot('person_bins', legend=True, ax=ax, cmap='Dark2')\n",
    "plt.title('Number of racers from each state')"
   ]
  },
  {
   "cell_type": "code",
   "execution_count": 26,
   "id": "26b316ad-d3c5-49aa-ae25-eeab0aa01239",
   "metadata": {},
   "outputs": [],
   "source": [
    "def to_minutes(time):\n",
    "    seconds = (time.hour * 60 + time.minute) * 60 + time.second\n",
    "    minutes = seconds/60\n",
    "    return minutes"
   ]
  },
  {
   "cell_type": "code",
   "execution_count": 27,
   "id": "98d253b2-621a-406d-a41e-0960ef8a20c3",
   "metadata": {},
   "outputs": [],
   "source": [
    "df['minutes'] = df['Time'].apply(to_minutes)\n",
    "df['pace'] = df['minutes']/26.2"
   ]
  },
  {
   "cell_type": "code",
   "execution_count": 28,
   "id": "73ca0bb2-b03b-4168-9417-c01c08dda2cc",
   "metadata": {},
   "outputs": [
    {
     "data": {
      "text/plain": [
       "Text(10.586927083333336, 0.5, 'Minutes per mile')"
      ]
     },
     "execution_count": 28,
     "metadata": {},
     "output_type": "execute_result"
    },
    {
     "data": {
      "image/png": "[encoded data removed]",
      "text/plain": [
       "<Figure size 404.625x360 with 1 Axes>"
      ]
     },
     "metadata": {
      "needs_background": "light"
     },
     "output_type": "display_data"
    }
   ],
   "source": [
    "sns.catplot(x='AgeDiv', y='pace', data=df, kind='box', hue='Sex')\n",
    "plt.xticks(rotation=45, horizontalalignment='right')\n",
    "plt.title('Pace distribution per age')\n",
    "plt.ylabel('Minutes per mile')"
   ]
  },
  {
   "cell_type": "markdown",
   "id": "28279614-c584-4947-90e0-58d84c476389",
   "metadata": {},
   "source": [
    "Women were slower than men at all ages, except 69+ and 10-19"
   ]
  },
  {
   "cell_type": "markdown",
   "id": "4993145a-baa4-4f0c-84ae-ec7201388872",
   "metadata": {},
   "source": [
    "## With plotly"
   ]
  },
  {
   "cell_type": "code",
   "execution_count": 29,
   "id": "06e22982-39d8-4775-8787-6e918b0aa520",
   "metadata": {},
   "outputs": [],
   "source": [
    "import plotly.express as px"
   ]
  },
  {
   "cell_type": "code",
   "execution_count": 57,
   "id": "305284e4-4695-46ac-b0e7-76ac0a43c1a6",
   "metadata": {},
   "outputs": [
    {
     "data": {
      "text/html": [
       "<div>\n",
       "<style scoped>\n",
       "    .dataframe tbody tr th:only-of-type {\n",
       "        vertical-align: middle;\n",
       "    }\n",
       "\n",
       "    .dataframe tbody tr th {\n",
       "        vertical-align: top;\n",
       "    }\n",
       "\n",
       "    .dataframe thead th {\n",
       "        text-align: right;\n",
       "    }\n",
       "</style>\n",
       "<table border=\"1\" class=\"dataframe\">\n",
       "  <thead>\n",
       "    <tr style=\"text-align: right;\">\n",
       "      <th></th>\n",
       "      <th>Bib</th>\n",
       "      <th>PersonId</th>\n",
       "      <th>Sex</th>\n",
       "      <th>Age</th>\n",
       "      <th>City</th>\n",
       "      <th>State</th>\n",
       "      <th>Overall</th>\n",
       "      <th>SexPl</th>\n",
       "      <th>DivPl</th>\n",
       "      <th>Time</th>\n",
       "      <th>RaceId</th>\n",
       "      <th>Year</th>\n",
       "      <th>AgeDiv</th>\n",
       "      <th>OverallPercentile</th>\n",
       "      <th>SexPlPercentile</th>\n",
       "      <th>DivPlPercentile</th>\n",
       "      <th>minutes</th>\n",
       "      <th>pace</th>\n",
       "    </tr>\n",
       "  </thead>\n",
       "  <tbody>\n",
       "    <tr>\n",
       "      <th>0</th>\n",
       "      <td>8</td>\n",
       "      <td>1930</td>\n",
       "      <td>M</td>\n",
       "      <td>23.0</td>\n",
       "      <td>Akron</td>\n",
       "      <td>OH</td>\n",
       "      <td>1 / 678</td>\n",
       "      <td>1 / 422</td>\n",
       "      <td>1 / 27</td>\n",
       "      <td>02:25:07</td>\n",
       "      <td>11979</td>\n",
       "      <td>2021</td>\n",
       "      <td>(19, 24]</td>\n",
       "      <td>99.852507</td>\n",
       "      <td>99.763033</td>\n",
       "      <td>96.296296</td>\n",
       "      <td>145.116667</td>\n",
       "      <td>5.538804</td>\n",
       "    </tr>\n",
       "    <tr>\n",
       "      <th>1</th>\n",
       "      <td>3</td>\n",
       "      <td>710</td>\n",
       "      <td>M</td>\n",
       "      <td>28.0</td>\n",
       "      <td>Akron</td>\n",
       "      <td>OH</td>\n",
       "      <td>2 / 678</td>\n",
       "      <td>2 / 422</td>\n",
       "      <td>1 / 39</td>\n",
       "      <td>02:27:30</td>\n",
       "      <td>11979</td>\n",
       "      <td>2021</td>\n",
       "      <td>(24, 29]</td>\n",
       "      <td>99.705015</td>\n",
       "      <td>99.526066</td>\n",
       "      <td>97.435897</td>\n",
       "      <td>147.500000</td>\n",
       "      <td>5.629771</td>\n",
       "    </tr>\n",
       "  </tbody>\n",
       "</table>\n",
       "</div>"
      ],
      "text/plain": [
       "  Bib  PersonId Sex   Age   City State  Overall    SexPl   DivPl      Time  \\\n",
       "0   8      1930   M  23.0  Akron    OH  1 / 678  1 / 422  1 / 27  02:25:07   \n",
       "1   3       710   M  28.0  Akron    OH  2 / 678  2 / 422  1 / 39  02:27:30   \n",
       "\n",
       "   RaceId  Year    AgeDiv  OverallPercentile  SexPlPercentile  \\\n",
       "0   11979  2021  (19, 24]          99.852507        99.763033   \n",
       "1   11979  2021  (24, 29]          99.705015        99.526066   \n",
       "\n",
       "   DivPlPercentile     minutes      pace  \n",
       "0        96.296296  145.116667  5.538804  \n",
       "1        97.435897  147.500000  5.629771  "
      ]
     },
     "execution_count": 57,
     "metadata": {},
     "output_type": "execute_result"
    }
   ],
   "source": [
    "df.head(2)"
   ]
  },
  {
   "cell_type": "code",
   "execution_count": 67,
   "id": "c2aa47b2-95a5-4a77-b8e9-94b4f7ba3035",
   "metadata": {},
   "outputs": [
    {
     "data": {
      "application/vnd.plotly.v1+json": {
       "config": {
        "plotlyServerURL": "https://plot.ly"
       },
       "data": [
        {
         "colorscale": [
          [
           0,
           "#636efa"
          ],
          [
           1,
           "#636efa"
          ]
         ],
         "customdata": [
          [
           1
          ],
          [
           1
          ],
          [
           1
          ],
          [
           3
          ],
          [
           17
          ],
          [
           5
          ],
          [
           8
          ],
          [
           1
          ],
          [
           17
          ],
          [
           9
          ],
          [
           1
          ],
          [
           25
          ],
          [
           10
          ],
          [
           2
          ],
          [
           7
          ],
          [
           2
          ],
          [
           5
          ],
          [
           15
          ],
          [
           31
          ],
          [
           4
          ],
          [
           4
          ],
          [
           7
          ],
          [
           1
          ],
          [
           8
          ],
          [
           1
          ],
          [
           1
          ],
          [
           10
          ],
          [
           3049
          ],
          [
           1
          ],
          [
           2
          ],
          [
           1
          ],
          [
           133
          ],
          [
           1
          ],
          [
           10
          ],
          [
           1
          ],
          [
           10
          ],
          [
           8
          ],
          [
           2
          ],
          [
           18
          ],
          [
           3
          ],
          [
           3
          ],
          [
           7
          ],
          [
           6
          ]
         ],
         "geo": "geo",
         "hovertemplate": "State=%{location}<br>PersonId=%{customdata[0]}<extra></extra>",
         "locationmode": "USA-states",
         "locations": [
          "",
          "AL",
          "AP",
          "AZ",
          "CA",
          "CO",
          "CT",
          "DC",
          "FL",
          "GA",
          "HI",
          "IL",
          "IN",
          "KS",
          "KY",
          "LA",
          "MA",
          "MD",
          "MI",
          "MN",
          "MO",
          "NC",
          "ND",
          "NJ",
          "NM",
          "NV",
          "NY",
          "OH",
          "OK",
          "ON",
          "OR",
          "PA",
          "RI",
          "SC",
          "SP",
          "TN",
          "TX",
          "UT",
          "VA",
          "VT",
          "WA",
          "WI",
          "WV"
         ],
         "name": "",
         "showlegend": true,
         "showscale": false,
         "type": "choropleth",
         "z": [
          1,
          1,
          1,
          1,
          1,
          1,
          1,
          1,
          1,
          1,
          1,
          1,
          1,
          1,
          1,
          1,
          1,
          1,
          1,
          1,
          1,
          1,
          1,
          1,
          1,
          1,
          1,
          1,
          1,
          1,
          1,
          1,
          1,
          1,
          1,
          1,
          1,
          1,
          1,
          1,
          1,
          1,
          1
         ]
        }
       ],
       "layout": {
        "autosize": true,
        "geo": {
         "center": {},
         "domain": {
          "x": [
           0,
           1
          ],
          "y": [
           0,
           1
          ]
         },
         "scope": "usa"
        },
        "legend": {
         "tracegroupgap": 0
        },
        "template": {
         "data": {
          "bar": [
           {
            "error_x": {
             "color": "#2a3f5f"
            },
            "error_y": {
             "color": "#2a3f5f"
            },
            "marker": {
             "line": {
              "color": "#E5ECF6",
              "width": 0.5
             }
            },
            "type": "bar"
           }
          ],
          "barpolar": [
           {
            "marker": {
             "line": {
              "color": "#E5ECF6",
              "width": 0.5
             }
            },
            "type": "barpolar"
           }
          ],
          "carpet": [
           {
            "aaxis": {
             "endlinecolor": "#2a3f5f",
             "gridcolor": "white",
             "linecolor": "white",
             "minorgridcolor": "white",
             "startlinecolor": "#2a3f5f"
            },
            "baxis": {
             "endlinecolor": "#2a3f5f",
             "gridcolor": "white",
             "linecolor": "white",
             "minorgridcolor": "white",
             "startlinecolor": "#2a3f5f"
            },
            "type": "carpet"
           }
          ],
          "choropleth": [
           {
            "colorbar": {
             "outlinewidth": 0,
             "ticks": ""
            },
            "type": "choropleth"
           }
          ],
          "contour": [
           {
            "colorbar": {
             "outlinewidth": 0,
             "ticks": ""
            },
            "colorscale": [
             [
              0,
              "#0d0887"
             ],
             [
              0.1111111111111111,
              "#46039f"
             ],
             [
              0.2222222222222222,
              "#7201a8"
             ],
             [
              0.3333333333333333,
              "#9c179e"
             ],
             [
              0.4444444444444444,
              "#bd3786"
             ],
             [
              0.5555555555555556,
              "#d8576b"
             ],
             [
              0.6666666666666666,
              "#ed7953"
             ],
             [
              0.7777777777777778,
              "#fb9f3a"
             ],
             [
              0.8888888888888888,
              "#fdca26"
             ],
             [
              1,
              "#f0f921"
             ]
            ],
            "type": "contour"
           }
          ],
          "contourcarpet": [
           {
            "colorbar": {
             "outlinewidth": 0,
             "ticks": ""
            },
            "type": "contourcarpet"
           }
          ],
          "heatmap": [
           {
            "colorbar": {
             "outlinewidth": 0,
             "ticks": ""
            },
            "colorscale": [
             [
              0,
              "#0d0887"
             ],
             [
              0.1111111111111111,
              "#46039f"
             ],
             [
              0.2222222222222222,
              "#7201a8"
             ],
             [
              0.3333333333333333,
              "#9c179e"
             ],
             [
              0.4444444444444444,
              "#bd3786"
             ],
             [
              0.5555555555555556,
              "#d8576b"
             ],
             [
              0.6666666666666666,
              "#ed7953"
             ],
             [
              0.7777777777777778,
              "#fb9f3a"
             ],
             [
              0.8888888888888888,
              "#fdca26"
             ],
             [
              1,
              "#f0f921"
             ]
            ],
            "type": "heatmap"
           }
          ],
          "heatmapgl": [
           {
            "colorbar": {
             "outlinewidth": 0,
             "ticks": ""
            },
            "colorscale": [
             [
              0,
              "#0d0887"
             ],
             [
              0.1111111111111111,
              "#46039f"
             ],
             [
              0.2222222222222222,
              "#7201a8"
             ],
             [
              0.3333333333333333,
              "#9c179e"
             ],
             [
              0.4444444444444444,
              "#bd3786"
             ],
             [
              0.5555555555555556,
              "#d8576b"
             ],
             [
              0.6666666666666666,
              "#ed7953"
             ],
             [
              0.7777777777777778,
              "#fb9f3a"
             ],
             [
              0.8888888888888888,
              "#fdca26"
             ],
             [
              1,
              "#f0f921"
             ]
            ],
            "type": "heatmapgl"
           }
          ],
          "histogram": [
           {
            "marker": {
             "colorbar": {
              "outlinewidth": 0,
              "ticks": ""
             }
            },
            "type": "histogram"
           }
          ],
          "histogram2d": [
           {
            "colorbar": {
             "outlinewidth": 0,
             "ticks": ""
            },
            "colorscale": [
             [
              0,
              "#0d0887"
             ],
             [
              0.1111111111111111,
              "#46039f"
             ],
             [
              0.2222222222222222,
              "#7201a8"
             ],
             [
              0.3333333333333333,
              "#9c179e"
             ],
             [
              0.4444444444444444,
              "#bd3786"
             ],
             [
              0.5555555555555556,
              "#d8576b"
             ],
             [
              0.6666666666666666,
              "#ed7953"
             ],
             [
              0.7777777777777778,
              "#fb9f3a"
             ],
             [
              0.8888888888888888,
              "#fdca26"
             ],
             [
              1,
              "#f0f921"
             ]
            ],
            "type": "histogram2d"
           }
          ],
          "histogram2dcontour": [
           {
            "colorbar": {
             "outlinewidth": 0,
             "ticks": ""
            },
            "colorscale": [
             [
              0,
              "#0d0887"
             ],
             [
              0.1111111111111111,
              "#46039f"
             ],
             [
              0.2222222222222222,
              "#7201a8"
             ],
             [
              0.3333333333333333,
              "#9c179e"
             ],
             [
              0.4444444444444444,
              "#bd3786"
             ],
             [
              0.5555555555555556,
              "#d8576b"
             ],
             [
              0.6666666666666666,
              "#ed7953"
             ],
             [
              0.7777777777777778,
              "#fb9f3a"
             ],
             [
              0.8888888888888888,
              "#fdca26"
             ],
             [
              1,
              "#f0f921"
             ]
            ],
            "type": "histogram2dcontour"
           }
          ],
          "mesh3d": [
           {
            "colorbar": {
             "outlinewidth": 0,
             "ticks": ""
            },
            "type": "mesh3d"
           }
          ],
          "parcoords": [
           {
            "line": {
             "colorbar": {
              "outlinewidth": 0,
              "ticks": ""
             }
            },
            "type": "parcoords"
           }
          ],
          "pie": [
           {
            "automargin": true,
            "type": "pie"
           }
          ],
          "scatter": [
           {
            "marker": {
             "colorbar": {
              "outlinewidth": 0,
              "ticks": ""
             }
            },
            "type": "scatter"
           }
          ],
          "scatter3d": [
           {
            "line": {
             "colorbar": {
              "outlinewidth": 0,
              "ticks": ""
             }
            },
            "marker": {
             "colorbar": {
              "outlinewidth": 0,
              "ticks": ""
             }
            },
            "type": "scatter3d"
           }
          ],
          "scattercarpet": [
           {
            "marker": {
             "colorbar": {
              "outlinewidth": 0,
              "ticks": ""
             }
            },
            "type": "scattercarpet"
           }
          ],
          "scattergeo": [
           {
            "marker": {
             "colorbar": {
              "outlinewidth": 0,
              "ticks": ""
             }
            },
            "type": "scattergeo"
           }
          ],
          "scattergl": [
           {
            "marker": {
             "colorbar": {
              "outlinewidth": 0,
              "ticks": ""
             }
            },
            "type": "scattergl"
           }
          ],
          "scattermapbox": [
           {
            "marker": {
             "colorbar": {
              "outlinewidth": 0,
              "ticks": ""
             }
            },
            "type": "scattermapbox"
           }
          ],
          "scatterpolar": [
           {
            "marker": {
             "colorbar": {
              "outlinewidth": 0,
              "ticks": ""
             }
            },
            "type": "scatterpolar"
           }
          ],
          "scatterpolargl": [
           {
            "marker": {
             "colorbar": {
              "outlinewidth": 0,
              "ticks": ""
             }
            },
            "type": "scatterpolargl"
           }
          ],
          "scatterternary": [
           {
            "marker": {
             "colorbar": {
              "outlinewidth": 0,
              "ticks": ""
             }
            },
            "type": "scatterternary"
           }
          ],
          "surface": [
           {
            "colorbar": {
             "outlinewidth": 0,
             "ticks": ""
            },
            "colorscale": [
             [
              0,
              "#0d0887"
             ],
             [
              0.1111111111111111,
              "#46039f"
             ],
             [
              0.2222222222222222,
              "#7201a8"
             ],
             [
              0.3333333333333333,
              "#9c179e"
             ],
             [
              0.4444444444444444,
              "#bd3786"
             ],
             [
              0.5555555555555556,
              "#d8576b"
             ],
             [
              0.6666666666666666,
              "#ed7953"
             ],
             [
              0.7777777777777778,
              "#fb9f3a"
             ],
             [
              0.8888888888888888,
              "#fdca26"
             ],
             [
              1,
              "#f0f921"
             ]
            ],
            "type": "surface"
           }
          ],
          "table": [
           {
            "cells": {
             "fill": {
              "color": "#EBF0F8"
             },
             "line": {
              "color": "white"
             }
            },
            "header": {
             "fill": {
              "color": "#C8D4E3"
             },
             "line": {
              "color": "white"
             }
            },
            "type": "table"
           }
          ]
         },
         "layout": {
          "annotationdefaults": {
           "arrowcolor": "#2a3f5f",
           "arrowhead": 0,
           "arrowwidth": 1
          },
          "coloraxis": {
           "colorbar": {
            "outlinewidth": 0,
            "ticks": ""
           }
          },
          "colorscale": {
           "diverging": [
            [
             0,
             "#8e0152"
            ],
            [
             0.1,
             "#c51b7d"
            ],
            [
             0.2,
             "#de77ae"
            ],
            [
             0.3,
             "#f1b6da"
            ],
            [
             0.4,
             "#fde0ef"
            ],
            [
             0.5,
             "#f7f7f7"
            ],
            [
             0.6,
             "#e6f5d0"
            ],
            [
             0.7,
             "#b8e186"
            ],
            [
             0.8,
             "#7fbc41"
            ],
            [
             0.9,
             "#4d9221"
            ],
            [
             1,
             "#276419"
            ]
           ],
           "sequential": [
            [
             0,
             "#0d0887"
            ],
            [
             0.1111111111111111,
             "#46039f"
            ],
            [
             0.2222222222222222,
             "#7201a8"
            ],
            [
             0.3333333333333333,
             "#9c179e"
            ],
            [
             0.4444444444444444,
             "#bd3786"
            ],
            [
             0.5555555555555556,
             "#d8576b"
            ],
            [
             0.6666666666666666,
             "#ed7953"
            ],
            [
             0.7777777777777778,
             "#fb9f3a"
            ],
            [
             0.8888888888888888,
             "#fdca26"
            ],
            [
             1,
             "#f0f921"
            ]
           ],
           "sequentialminus": [
            [
             0,
             "#0d0887"
            ],
            [
             0.1111111111111111,
             "#46039f"
            ],
            [
             0.2222222222222222,
             "#7201a8"
            ],
            [
             0.3333333333333333,
             "#9c179e"
            ],
            [
             0.4444444444444444,
             "#bd3786"
            ],
            [
             0.5555555555555556,
             "#d8576b"
            ],
            [
             0.6666666666666666,
             "#ed7953"
            ],
            [
             0.7777777777777778,
             "#fb9f3a"
            ],
            [
             0.8888888888888888,
             "#fdca26"
            ],
            [
             1,
             "#f0f921"
            ]
           ]
          },
          "colorway": [
           "#636efa",
           "#EF553B",
           "#00cc96",
           "#ab63fa",
           "#FFA15A",
           "#19d3f3",
           "#FF6692",
           "#B6E880",
           "#FF97FF",
           "#FECB52"
          ],
          "font": {
           "color": "#2a3f5f"
          },
          "geo": {
           "bgcolor": "white",
           "lakecolor": "white",
           "landcolor": "#E5ECF6",
           "showlakes": true,
           "showland": true,
           "subunitcolor": "white"
          },
          "hoverlabel": {
           "align": "left"
          },
          "hovermode": "closest",
          "mapbox": {
           "style": "light"
          },
          "paper_bgcolor": "white",
          "plot_bgcolor": "#E5ECF6",
          "polar": {
           "angularaxis": {
            "gridcolor": "white",
            "linecolor": "white",
            "ticks": ""
           },
           "bgcolor": "#E5ECF6",
           "radialaxis": {
            "gridcolor": "white",
            "linecolor": "white",
            "ticks": ""
           }
          },
          "scene": {
           "xaxis": {
            "backgroundcolor": "#E5ECF6",
            "gridcolor": "white",
            "gridwidth": 2,
            "linecolor": "white",
            "showbackground": true,
            "ticks": "",
            "zerolinecolor": "white"
           },
           "yaxis": {
            "backgroundcolor": "#E5ECF6",
            "gridcolor": "white",
            "gridwidth": 2,
            "linecolor": "white",
            "showbackground": true,
            "ticks": "",
            "zerolinecolor": "white"
           },
           "zaxis": {
            "backgroundcolor": "#E5ECF6",
            "gridcolor": "white",
            "gridwidth": 2,
            "linecolor": "white",
            "showbackground": true,
            "ticks": "",
            "zerolinecolor": "white"
           }
          },
          "shapedefaults": {
           "line": {
            "color": "#2a3f5f"
           }
          },
          "ternary": {
           "aaxis": {
            "gridcolor": "white",
            "linecolor": "white",
            "ticks": ""
           },
           "baxis": {
            "gridcolor": "white",
            "linecolor": "white",
            "ticks": ""
           },
           "bgcolor": "#E5ECF6",
           "caxis": {
            "gridcolor": "white",
            "linecolor": "white",
            "ticks": ""
           }
          },
          "title": {
           "x": 0.05
          },
          "xaxis": {
           "automargin": true,
           "gridcolor": "white",
           "linecolor": "white",
           "ticks": "",
           "title": {
            "standoff": 15
           },
           "zerolinecolor": "white",
           "zerolinewidth": 2
          },
          "yaxis": {
           "automargin": true,
           "gridcolor": "white",
           "linecolor": "white",
           "ticks": "",
           "title": {
            "standoff": 15
           },
           "zerolinecolor": "white",
           "zerolinewidth": 2
          }
         }
        },
        "title": {
         "text": "Origin of Akron Marathon runners, and their age"
        }
       }
      },
      "image/png": "[encoded data removed]",
      "text/html": [
       "<div>                            <div id=\"1193866b-f5af-41c4-ae40-052def5dd672\" class=\"plotly-graph-div\" style=\"height:525px; width:100%;\"></div>            <script type=\"text/javascript\">                require([\"plotly\"], function(Plotly) {                    window.PLOTLYENV=window.PLOTLYENV || {};                                    if (document.getElementById(\"1193866b-f5af-41c4-ae40-052def5dd672\")) {                    Plotly.newPlot(                        \"1193866b-f5af-41c4-ae40-052def5dd672\",                        [{\"colorscale\": [[0.0, \"#636efa\"], [1.0, \"#636efa\"]], \"customdata\": [[1], [1], [1], [3], [17], [5], [8], [1], [17], [9], [1], [25], [10], [2], [7], [2], [5], [15], [31], [4], [4], [7], [1], [8], [1], [1], [10], [3049], [1], [2], [1], [133], [1], [10], [1], [10], [8], [2], [18], [3], [3], [7], [6]], \"geo\": \"geo\", \"hovertemplate\": \"State=%{location}<br>PersonId=%{customdata[0]}<extra></extra>\", \"locationmode\": \"USA-states\", \"locations\": [\"\", \"AL\", \"AP\", \"AZ\", \"CA\", \"CO\", \"CT\", \"DC\", \"FL\", \"GA\", \"HI\", \"IL\", \"IN\", \"KS\", \"KY\", \"LA\", \"MA\", \"MD\", \"MI\", \"MN\", \"MO\", \"NC\", \"ND\", \"NJ\", \"NM\", \"NV\", \"NY\", \"OH\", \"OK\", \"ON\", \"OR\", \"PA\", \"RI\", \"SC\", \"SP\", \"TN\", \"TX\", \"UT\", \"VA\", \"VT\", \"WA\", \"WI\", \"WV\"], \"name\": \"\", \"showlegend\": true, \"showscale\": false, \"type\": \"choropleth\", \"z\": [1, 1, 1, 1, 1, 1, 1, 1, 1, 1, 1, 1, 1, 1, 1, 1, 1, 1, 1, 1, 1, 1, 1, 1, 1, 1, 1, 1, 1, 1, 1, 1, 1, 1, 1, 1, 1, 1, 1, 1, 1, 1, 1]}],                        {\"geo\": {\"center\": {}, \"domain\": {\"x\": [0.0, 1.0], \"y\": [0.0, 1.0]}, \"scope\": \"usa\"}, \"legend\": {\"tracegroupgap\": 0}, \"template\": {\"data\": {\"bar\": [{\"error_x\": {\"color\": \"#2a3f5f\"}, \"error_y\": {\"color\": \"#2a3f5f\"}, \"marker\": {\"line\": {\"color\": \"#E5ECF6\", \"width\": 0.5}}, \"type\": \"bar\"}], \"barpolar\": [{\"marker\": {\"line\": {\"color\": \"#E5ECF6\", \"width\": 0.5}}, \"type\": \"barpolar\"}], \"carpet\": [{\"aaxis\": {\"endlinecolor\": \"#2a3f5f\", \"gridcolor\": \"white\", \"linecolor\": \"white\", \"minorgridcolor\": \"white\", \"startlinecolor\": \"#2a3f5f\"}, \"baxis\": {\"endlinecolor\": \"#2a3f5f\", \"gridcolor\": \"white\", \"linecolor\": \"white\", \"minorgridcolor\": \"white\", \"startlinecolor\": \"#2a3f5f\"}, \"type\": \"carpet\"}], \"choropleth\": [{\"colorbar\": {\"outlinewidth\": 0, \"ticks\": \"\"}, \"type\": \"choropleth\"}], \"contour\": [{\"colorbar\": {\"outlinewidth\": 0, \"ticks\": \"\"}, \"colorscale\": [[0.0, \"#0d0887\"], [0.1111111111111111, \"#46039f\"], [0.2222222222222222, \"#7201a8\"], [0.3333333333333333, \"#9c179e\"], [0.4444444444444444, \"#bd3786\"], [0.5555555555555556, \"#d8576b\"], [0.6666666666666666, \"#ed7953\"], [0.7777777777777778, \"#fb9f3a\"], [0.8888888888888888, \"#fdca26\"], [1.0, \"#f0f921\"]], \"type\": \"contour\"}], \"contourcarpet\": [{\"colorbar\": {\"outlinewidth\": 0, \"ticks\": \"\"}, \"type\": \"contourcarpet\"}], \"heatmap\": [{\"colorbar\": {\"outlinewidth\": 0, \"ticks\": \"\"}, \"colorscale\": [[0.0, \"#0d0887\"], [0.1111111111111111, \"#46039f\"], [0.2222222222222222, \"#7201a8\"], [0.3333333333333333, \"#9c179e\"], [0.4444444444444444, \"#bd3786\"], [0.5555555555555556, \"#d8576b\"], [0.6666666666666666, \"#ed7953\"], [0.7777777777777778, \"#fb9f3a\"], [0.8888888888888888, \"#fdca26\"], [1.0, \"#f0f921\"]], \"type\": \"heatmap\"}], \"heatmapgl\": [{\"colorbar\": {\"outlinewidth\": 0, \"ticks\": \"\"}, \"colorscale\": [[0.0, \"#0d0887\"], [0.1111111111111111, \"#46039f\"], [0.2222222222222222, \"#7201a8\"], [0.3333333333333333, \"#9c179e\"], [0.4444444444444444, \"#bd3786\"], [0.5555555555555556, \"#d8576b\"], [0.6666666666666666, \"#ed7953\"], [0.7777777777777778, \"#fb9f3a\"], [0.8888888888888888, \"#fdca26\"], [1.0, \"#f0f921\"]], \"type\": \"heatmapgl\"}], \"histogram\": [{\"marker\": {\"colorbar\": {\"outlinewidth\": 0, \"ticks\": \"\"}}, \"type\": \"histogram\"}], \"histogram2d\": [{\"colorbar\": {\"outlinewidth\": 0, \"ticks\": \"\"}, \"colorscale\": [[0.0, \"#0d0887\"], [0.1111111111111111, \"#46039f\"], [0.2222222222222222, \"#7201a8\"], [0.3333333333333333, \"#9c179e\"], [0.4444444444444444, \"#bd3786\"], [0.5555555555555556, \"#d8576b\"], [0.6666666666666666, \"#ed7953\"], [0.7777777777777778, \"#fb9f3a\"], [0.8888888888888888, \"#fdca26\"], [1.0, \"#f0f921\"]], \"type\": \"histogram2d\"}], \"histogram2dcontour\": [{\"colorbar\": {\"outlinewidth\": 0, \"ticks\": \"\"}, \"colorscale\": [[0.0, \"#0d0887\"], [0.1111111111111111, \"#46039f\"], [0.2222222222222222, \"#7201a8\"], [0.3333333333333333, \"#9c179e\"], [0.4444444444444444, \"#bd3786\"], [0.5555555555555556, \"#d8576b\"], [0.6666666666666666, \"#ed7953\"], [0.7777777777777778, \"#fb9f3a\"], [0.8888888888888888, \"#fdca26\"], [1.0, \"#f0f921\"]], \"type\": \"histogram2dcontour\"}], \"mesh3d\": [{\"colorbar\": {\"outlinewidth\": 0, \"ticks\": \"\"}, \"type\": \"mesh3d\"}], \"parcoords\": [{\"line\": {\"colorbar\": {\"outlinewidth\": 0, \"ticks\": \"\"}}, \"type\": \"parcoords\"}], \"pie\": [{\"automargin\": true, \"type\": \"pie\"}], \"scatter\": [{\"marker\": {\"colorbar\": {\"outlinewidth\": 0, \"ticks\": \"\"}}, \"type\": \"scatter\"}], \"scatter3d\": [{\"line\": {\"colorbar\": {\"outlinewidth\": 0, \"ticks\": \"\"}}, \"marker\": {\"colorbar\": {\"outlinewidth\": 0, \"ticks\": \"\"}}, \"type\": \"scatter3d\"}], \"scattercarpet\": [{\"marker\": {\"colorbar\": {\"outlinewidth\": 0, \"ticks\": \"\"}}, \"type\": \"scattercarpet\"}], \"scattergeo\": [{\"marker\": {\"colorbar\": {\"outlinewidth\": 0, \"ticks\": \"\"}}, \"type\": \"scattergeo\"}], \"scattergl\": [{\"marker\": {\"colorbar\": {\"outlinewidth\": 0, \"ticks\": \"\"}}, \"type\": \"scattergl\"}], \"scattermapbox\": [{\"marker\": {\"colorbar\": {\"outlinewidth\": 0, \"ticks\": \"\"}}, \"type\": \"scattermapbox\"}], \"scatterpolar\": [{\"marker\": {\"colorbar\": {\"outlinewidth\": 0, \"ticks\": \"\"}}, \"type\": \"scatterpolar\"}], \"scatterpolargl\": [{\"marker\": {\"colorbar\": {\"outlinewidth\": 0, \"ticks\": \"\"}}, \"type\": \"scatterpolargl\"}], \"scatterternary\": [{\"marker\": {\"colorbar\": {\"outlinewidth\": 0, \"ticks\": \"\"}}, \"type\": \"scatterternary\"}], \"surface\": [{\"colorbar\": {\"outlinewidth\": 0, \"ticks\": \"\"}, \"colorscale\": [[0.0, \"#0d0887\"], [0.1111111111111111, \"#46039f\"], [0.2222222222222222, \"#7201a8\"], [0.3333333333333333, \"#9c179e\"], [0.4444444444444444, \"#bd3786\"], [0.5555555555555556, \"#d8576b\"], [0.6666666666666666, \"#ed7953\"], [0.7777777777777778, \"#fb9f3a\"], [0.8888888888888888, \"#fdca26\"], [1.0, \"#f0f921\"]], \"type\": \"surface\"}], \"table\": [{\"cells\": {\"fill\": {\"color\": \"#EBF0F8\"}, \"line\": {\"color\": \"white\"}}, \"header\": {\"fill\": {\"color\": \"#C8D4E3\"}, \"line\": {\"color\": \"white\"}}, \"type\": \"table\"}]}, \"layout\": {\"annotationdefaults\": {\"arrowcolor\": \"#2a3f5f\", \"arrowhead\": 0, \"arrowwidth\": 1}, \"coloraxis\": {\"colorbar\": {\"outlinewidth\": 0, \"ticks\": \"\"}}, \"colorscale\": {\"diverging\": [[0, \"#8e0152\"], [0.1, \"#c51b7d\"], [0.2, \"#de77ae\"], [0.3, \"#f1b6da\"], [0.4, \"#fde0ef\"], [0.5, \"#f7f7f7\"], [0.6, \"#e6f5d0\"], [0.7, \"#b8e186\"], [0.8, \"#7fbc41\"], [0.9, \"#4d9221\"], [1, \"#276419\"]], \"sequential\": [[0.0, \"#0d0887\"], [0.1111111111111111, \"#46039f\"], [0.2222222222222222, \"#7201a8\"], [0.3333333333333333, \"#9c179e\"], [0.4444444444444444, \"#bd3786\"], [0.5555555555555556, \"#d8576b\"], [0.6666666666666666, \"#ed7953\"], [0.7777777777777778, \"#fb9f3a\"], [0.8888888888888888, \"#fdca26\"], [1.0, \"#f0f921\"]], \"sequentialminus\": [[0.0, \"#0d0887\"], [0.1111111111111111, \"#46039f\"], [0.2222222222222222, \"#7201a8\"], [0.3333333333333333, \"#9c179e\"], [0.4444444444444444, \"#bd3786\"], [0.5555555555555556, \"#d8576b\"], [0.6666666666666666, \"#ed7953\"], [0.7777777777777778, \"#fb9f3a\"], [0.8888888888888888, \"#fdca26\"], [1.0, \"#f0f921\"]]}, \"colorway\": [\"#636efa\", \"#EF553B\", \"#00cc96\", \"#ab63fa\", \"#FFA15A\", \"#19d3f3\", \"#FF6692\", \"#B6E880\", \"#FF97FF\", \"#FECB52\"], \"font\": {\"color\": \"#2a3f5f\"}, \"geo\": {\"bgcolor\": \"white\", \"lakecolor\": \"white\", \"landcolor\": \"#E5ECF6\", \"showlakes\": true, \"showland\": true, \"subunitcolor\": \"white\"}, \"hoverlabel\": {\"align\": \"left\"}, \"hovermode\": \"closest\", \"mapbox\": {\"style\": \"light\"}, \"paper_bgcolor\": \"white\", \"plot_bgcolor\": \"#E5ECF6\", \"polar\": {\"angularaxis\": {\"gridcolor\": \"white\", \"linecolor\": \"white\", \"ticks\": \"\"}, \"bgcolor\": \"#E5ECF6\", \"radialaxis\": {\"gridcolor\": \"white\", \"linecolor\": \"white\", \"ticks\": \"\"}}, \"scene\": {\"xaxis\": {\"backgroundcolor\": \"#E5ECF6\", \"gridcolor\": \"white\", \"gridwidth\": 2, \"linecolor\": \"white\", \"showbackground\": true, \"ticks\": \"\", \"zerolinecolor\": \"white\"}, \"yaxis\": {\"backgroundcolor\": \"#E5ECF6\", \"gridcolor\": \"white\", \"gridwidth\": 2, \"linecolor\": \"white\", \"showbackground\": true, \"ticks\": \"\", \"zerolinecolor\": \"white\"}, \"zaxis\": {\"backgroundcolor\": \"#E5ECF6\", \"gridcolor\": \"white\", \"gridwidth\": 2, \"linecolor\": \"white\", \"showbackground\": true, \"ticks\": \"\", \"zerolinecolor\": \"white\"}}, \"shapedefaults\": {\"line\": {\"color\": \"#2a3f5f\"}}, \"ternary\": {\"aaxis\": {\"gridcolor\": \"white\", \"linecolor\": \"white\", \"ticks\": \"\"}, \"baxis\": {\"gridcolor\": \"white\", \"linecolor\": \"white\", \"ticks\": \"\"}, \"bgcolor\": \"#E5ECF6\", \"caxis\": {\"gridcolor\": \"white\", \"linecolor\": \"white\", \"ticks\": \"\"}}, \"title\": {\"x\": 0.05}, \"xaxis\": {\"automargin\": true, \"gridcolor\": \"white\", \"linecolor\": \"white\", \"ticks\": \"\", \"title\": {\"standoff\": 15}, \"zerolinecolor\": \"white\", \"zerolinewidth\": 2}, \"yaxis\": {\"automargin\": true, \"gridcolor\": \"white\", \"linecolor\": \"white\", \"ticks\": \"\", \"title\": {\"standoff\": 15}, \"zerolinecolor\": \"white\", \"zerolinewidth\": 2}}}, \"title\": {\"text\": \"Origin of Akron Marathon runners, and their age\"}},                        {\"responsive\": true}                    ).then(function(){\n",
       "                            \n",
       "var gd = document.getElementById('1193866b-f5af-41c4-ae40-052def5dd672');\n",
       "var x = new MutationObserver(function (mutations, observer) {{\n",
       "        var display = window.getComputedStyle(gd).display;\n",
       "        if (!display || display === 'none') {{\n",
       "            console.log([gd, 'removed!']);\n",
       "            Plotly.purge(gd);\n",
       "            observer.disconnect();\n",
       "        }}\n",
       "}});\n",
       "\n",
       "// Listen for the removal of the full notebook cells\n",
       "var notebookContainer = gd.closest('#notebook-container');\n",
       "if (notebookContainer) {{\n",
       "    x.observe(notebookContainer, {childList: true});\n",
       "}}\n",
       "\n",
       "// Listen for the clearing of the current output cell\n",
       "var outputEl = gd.closest('.output');\n",
       "if (outputEl) {{\n",
       "    x.observe(outputEl, {childList: true});\n",
       "}}\n",
       "\n",
       "                        })                };                });            </script>        </div>"
      ]
     },
     "metadata": {},
     "output_type": "display_data"
    }
   ],
   "source": [
    "fig = px.choropleth(person_stats, \n",
    "                    locations=person_stats['State'], \n",
    "                    locationmode=\"USA-states\", \n",
    "                    scope=\"usa\",\n",
    "                    title='Origin of Akron Marathon runners, and their age',\n",
    "                    hover_data=['PersonId']\n",
    "                    )\n",
    "fig.show()"
   ]
  },
  {
   "cell_type": "code",
   "execution_count": null,
   "id": "5f999ee2-fae9-4368-ab2a-d11958ad5ae3",
   "metadata": {},
   "outputs": [],
   "source": []
  }
 ],
 "metadata": {
  "kernelspec": {
   "display_name": "Data Env",
   "language": "python",
   "name": "data_env"
  },
  "language_info": {
   "codemirror_mode": {
    "name": "ipython",
    "version": 3
   },
   "file_extension": ".py",
   "mimetype": "text/x-python",
   "name": "python",
   "nbconvert_exporter": "python",
   "pygments_lexer": "ipython3",
   "version": "3.8.8"
  },
  "widgets": {
   "application/vnd.jupyter.widget-state+json": {
    "state": {},
    "version_major": 2,
    "version_minor": 0
   }
  }
 },
 "nbformat": 4,
 "nbformat_minor": 5
}
